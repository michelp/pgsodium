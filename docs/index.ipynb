{
 "cells": [
  {
   "cell_type": "markdown",
   "id": "closing-field",
   "metadata": {},
   "source": [
    "# pgsodium User Guide"
   ]
  },
  {
   "cell_type": "markdown",
   "id": "black-orange",
   "metadata": {},
   "source": [
    "pgsodium is an encryption library extension for\n",
    "[PostgreSQL](https://www.postgresql.org/) using the\n",
    "[libsodium](https://download.libsodium.org/doc/) library for high\n",
    "level cryptographic algorithms.\n",
    "\n",
    "pgsodium can be used a straight interface to libsodium, but it can\n",
    "also use a powerful feature called [Server Key\n",
    "Management](./Server_Key_Management.md) where pgsodium loads an external\n",
    "secret key into memory that is never accessible to SQL.  This\n",
    "inaccessible root key can then be used to derive sub-keys that are used\n",
    "for encryption and decryption instead of the raw keys themselves.\n"
   ]
  },
  {
   "cell_type": "markdown",
   "id": "structured-maintenance",
   "metadata": {},
   "source": [
    "- [Configuration](Configuration.md)\n",
    "- [Generating Random Data](Generating_Random_Data.md)\n",
    "- [Hashing](Hashing.md)\n",
    "- [Password Hashing](Password_Hashing.md)\n",
    "- [Hash-Based Message Authentication Codes (HMAC)](HMAC.md)\n",
    "- [Secret Key Cryptography](Secret_Key_Cryptography.md)\n",
    "- [Public Key Cryptography](Public_Key_Cryptography.md)\n",
    "- [Authenticated Encryption With Additional Data (AEAD)](Authenticated_Encryption_With_Additional_Data.md)\n",
    "- [Key Derivation](Key_Derivation.md)\n",
    "- [Key Exchange](Key_Exchange.md)\n",
    "- [Signcryption](Signcryption.md)\n"
   ]
  }
 ],
 "metadata": {
  "kernelspec": {
   "display_name": "Python 3 (ipykernel)",
   "language": "python",
   "name": "python3"
  },
  "language_info": {
   "codemirror_mode": {
    "name": "ipython",
    "version": 3
   },
   "file_extension": ".py",
   "mimetype": "text/x-python",
   "name": "python",
   "nbconvert_exporter": "python",
   "pygments_lexer": "ipython3",
   "version": "3.9.2"
  }
 },
 "nbformat": 4,
 "nbformat_minor": 5
}
