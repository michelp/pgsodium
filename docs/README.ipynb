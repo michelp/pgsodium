{
 "cells": [
  {
   "cell_type": "markdown",
   "id": "closing-field",
   "metadata": {},
   "source": [
    "# pgsodium User Guide"
   ]
  },
  {
   "cell_type": "markdown",
   "id": "black-orange",
   "metadata": {},
   "source": [
    "Introduction."
   ]
  },
  {
   "cell_type": "markdown",
   "id": "structured-maintenance",
   "metadata": {},
   "source": [
    "- Using pgsodium to Encrypt Data\n",
    "  - [Introduction](Introduction.ipynb)\n",
    "  - [Configuration](Configuration.ipynb)\n",
    "  - [Server Key Management](Server_Key_Management.ipynb)\n",
    "  - [Transparent Column Encryption](Transparent_Column_Encryption.ipynb)\n",
    "\n",
    "\n",
    "- SQL API to libsodium\n",
    "  - [Generating Random Data](Generating_Random_Data.ipynb)\n",
    "  - [Hashing](Hashing.ipynb)\n",
    "  - [Password Hashing](Password_Hashing.ipynb)\n",
    "  - [Hash-Based Message Authentication Codes (HMAC)](HMAC.ipynb)\n",
    "  - [Secret Key Cryptography](Secret_Key_Cryptograph.ipynb)\n",
    "  - [Public Key Cryptography](Public_Key_Cryptograph.ipynb)\n",
    "  - [Authenticated Encryption With Additional Data (AEAD)](Authenticated_Encryption_With_Additional_Data.ipynb)\n",
    "  - [Key Derivation](Key_Derivation.ipynb)\n",
    "  - [Key Exchange](Key_Exchange.ipynb)\n",
    "  - [Signcryption](Signcryption.ipynb)\n"
   ]
  }
 ],
 "metadata": {
  "kernelspec": {
   "display_name": "Python 3",
   "language": "python",
   "name": "python3"
  },
  "language_info": {
   "codemirror_mode": {
    "name": "ipython",
    "version": 3
   },
   "file_extension": ".py",
   "mimetype": "text/x-python",
   "name": "python",
   "nbconvert_exporter": "python",
   "pygments_lexer": "ipython3",
   "version": "3.9.2"
  }
 },
 "nbformat": 4,
 "nbformat_minor": 5
}
