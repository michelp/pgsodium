{
 "cells": [
  {
   "cell_type": "markdown",
   "id": "cdf8b324-a154-44d0-a2e1-8f3a2fd3a387",
   "metadata": {},
   "source": [
    "# Authenticated Encryption with Associated Data"
   ]
  },
  {
   "cell_type": "markdown",
   "id": "87fca072-a046-4426-9ff0-d9e9610e7af3",
   "metadata": {},
   "source": [
    "Authenticated Encryption with Associated Data (AEAD) is a form of [Authenticated Encryption](https://en.wikipedia.org/wiki/Authenticated_encryption#Authenticated_encryption_with_associated_data_(AEAD)) that associated an unencrypted plaintext along with the [authentication signature](https://en.wikipedia.org/wiki/Digital_signature) computed for the encrypted cyphertext.  In a sense one signature \"covers\" both the encrypted and unencrypted portion of a message.  For example, an application may want to encrypt a credit card number for payment, but then associate an account id with that credit card number, so that the credit card number can only be decrypted in the correct account number is provided as well.  This prevents substitution attacks where an different account number could be swapped in to cause payment to be charged to a different card.  pgsodium currently provides two AEAD constructions from libsodium:\n",
    "\n",
    "- The [crypto_aead_ietf](https://doc.libsodium.org/secret-key_cryptography/aead/chacha20-poly1305/ietf_chacha20-poly1305_construction) API.\n",
    "- The [crypto_aead_det](https://github.com/jedisct1/libsodium-xchacha20-siv) API."
   ]
  },
  {
   "cell_type": "markdown",
   "id": "33063881-b6ab-4955-9acd-c470a6465507",
   "metadata": {},
   "source": [
    "## crypto_aead_ietf\n",
    "\n",
    "The IETF variant of the ChaCha20-Poly1305 construction can safely encrypt a practically unlimited number of messages, but individual messages cannot exceed 64*(2^32)-64 bytes (approximatively 256 GiB).\n",
    "\n",
    "### `crypto_aead_ietf_keygen()`\n",
    "\n",
    "Creates a cryptographically random key for IETF AEAD.\n",
    "\n",
    "### `crypto_aead_ietf_noncegen()`\n",
    "\n",
    "Creates a cryptographically random nonce for IETF AEAD.\n",
    "\n",
    "### `crypto_aead_ietf_encrypt()`\n",
    "\n",
    "Encrypt and Authenticate a message with the given key and associated data.  This function only returns the encrypted and signed confidential part, it is up to the caller to preserve the non-confidential part. \n",
    "\n",
    "### `crypto_aead_ietf_decrypt()`\n",
    "\n",
    "Decrypt a ciphertext with the provided key and associated data.\n"
   ]
  },
  {
   "cell_type": "markdown",
   "id": "6fe42790-13ef-4fa8-8391-308794d2d321",
   "metadata": {
    "tags": []
   },
   "source": [
    "## crypto_aead_det\n",
    "\n",
    "Deterministic/nonce-reuse resistant authenticated encryption scheme using XChaCha20, implemented on libsodium.\n",
    "\n",
    "### `crypto_aead_det_keygen()`\n",
    "\n",
    "Creates a cryptographically random key for deterministic AEAD.\n",
    "\n",
    "### `crypto_aead_det_noncegen()`\n",
    "\n",
    "Creates a cryptographically random nonce for deterministic AEAD.\n",
    "\n",
    "### `crypto_aead_det_encrypt()`\n",
    "\n",
    "Encrypt and Authenticate a message with the given key and associated data.  This function only returns the encrypted and signed confidential part, it is up to the caller to preserve the non-confidential part. \n",
    "\n",
    "### `crypto_aead_det_decrypt()`\n",
    "\n",
    "Decrypt a ciphertext with the provided key and associated data.\n"
   ]
  }
 ],
 "metadata": {
  "kernelspec": {
   "display_name": "Python 3 (ipykernel)",
   "language": "python",
   "name": "python3"
  },
  "language_info": {
   "codemirror_mode": {
    "name": "ipython",
    "version": 3
   },
   "file_extension": ".py",
   "mimetype": "text/x-python",
   "name": "python",
   "nbconvert_exporter": "python",
   "pygments_lexer": "ipython3",
   "version": "3.9.2"
  }
 },
 "nbformat": 4,
 "nbformat_minor": 5
}
