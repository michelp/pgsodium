{
 "cells": [
  {
   "cell_type": "markdown",
   "id": "7e8ea4a8-600c-4cb9-b218-f42c628450be",
   "metadata": {},
   "source": [
    "# Introduction to pgsodium"
   ]
  },
  {
   "cell_type": "markdown",
   "id": "697e0b72-9879-4a0a-a556-5dc185965248",
   "metadata": {},
   "source": [
    "pgsodium is an encryption library extension for\n",
    "[PostgreSQL](https://www.postgresql.org/) using the\n",
    "[libsodium](https://download.libsodium.org/doc/) library for high\n",
    "level cryptographic algorithms.\n",
    "\n"
   ]
  }
 ],
 "metadata": {
  "kernelspec": {
   "display_name": "Python 3 (ipykernel)",
   "language": "python",
   "name": "python3"
  },
  "language_info": {
   "codemirror_mode": {
    "name": "ipython",
    "version": 3
   },
   "file_extension": ".py",
   "mimetype": "text/x-python",
   "name": "python",
   "nbconvert_exporter": "python",
   "pygments_lexer": "ipython3",
   "version": "3.9.2"
  }
 },
 "nbformat": 4,
 "nbformat_minor": 5
}
