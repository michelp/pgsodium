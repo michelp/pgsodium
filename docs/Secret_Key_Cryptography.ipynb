{
 "cells": [
  {
   "cell_type": "markdown",
   "id": "comic-atmosphere",
   "metadata": {},
   "source": [
    "# Secret Key Cryptography"
   ]
  },
  {
   "cell_type": "markdown",
   "id": "amazing-salon",
   "metadata": {},
   "source": [
    "## Authenticated Encryption"
   ]
  },
  {
   "cell_type": "markdown",
   "id": "chemical-rainbow",
   "metadata": {},
   "source": [
    "## Authentication"
   ]
  },
  {
   "cell_type": "markdown",
   "id": "romantic-alert",
   "metadata": {},
   "source": [
    "## AEAD Constructions"
   ]
  },
  {
   "cell_type": "markdown",
   "id": "twelve-writer",
   "metadata": {},
   "source": [
    "### AEAD IETF"
   ]
  },
  {
   "cell_type": "markdown",
   "id": "available-actor",
   "metadata": {},
   "source": [
    "### Deterministic AEAD"
   ]
  }
 ],
 "metadata": {
  "kernelspec": {
   "display_name": "Python 3",
   "language": "python",
   "name": "python3"
  },
  "language_info": {
   "codemirror_mode": {
    "name": "ipython",
    "version": 3
   },
   "file_extension": ".py",
   "mimetype": "text/x-python",
   "name": "python",
   "nbconvert_exporter": "python",
   "pygments_lexer": "ipython3",
   "version": "3.9.2"
  }
 },
 "nbformat": 4,
 "nbformat_minor": 5
}
